{
 "cells": [
  {
   "cell_type": "markdown",
   "id": "7b2a1f00",
   "metadata": {},
   "source": [
    "# RNA-ATAC: scButterfly-B"
   ]
  },
  {
   "cell_type": "markdown",
   "id": "e1642ae0",
   "metadata": {},
   "source": [
    "The following tutorial demonstrate how to use scButterfly model making translation \n",
    "between scRNA-seq and scATAC-seq.\n",
    "\n",
    "There are three part of this tutorial:\n",
    "\n",
    "* **Read in data and load it to scButterfly**. This part will tell you how to load and pre-process scRNA-seq and scATAC-seq data for scButterfly model. \n",
    "\n",
    "* **Construct a scButterfly model**. This part will tell you how to generate and train a scButterfly model.\n",
    "\n",
    "* **Get prediction and evaluate the performance**. This part will tell you how to get prediction from scButterfly model and evaluate the performance of prediction."
   ]
  },
  {
   "cell_type": "markdown",
   "id": "c2564639",
   "metadata": {},
   "source": [
    "## Read in data and load it to scButterfly"
   ]
  },
  {
   "cell_type": "markdown",
   "id": "3fb9976e",
   "metadata": {},
   "source": [
    "scButterfly has integrated the process of pre-processing, constructing model, training model and evaluating in  ``scButterfly.butterfly`` for paired scRNA-seq and scATAC-seq. You could easily use it as follow:"
   ]
  },
  {
   "cell_type": "code",
   "execution_count": 1,
   "id": "c49da12a",
   "metadata": {
    "ExecuteTime": {
     "end_time": "2023-01-15T14:59:55.797200Z",
     "start_time": "2023-01-15T14:59:53.653936Z"
    }
   },
   "outputs": [],
   "source": [
    "from scButterfly.butterfly import Butterfly\n",
    "import scanpy as sc"
   ]
  },
  {
   "cell_type": "code",
   "execution_count": 2,
   "id": "041e95cf",
   "metadata": {
    "ExecuteTime": {
     "end_time": "2023-01-15T14:59:55.806140Z",
     "start_time": "2023-01-15T14:59:55.800573Z"
    }
   },
   "outputs": [],
   "source": [
    "butterfly = Butterfly()"
   ]
  },
  {
   "cell_type": "markdown",
   "id": "fd5eafe2",
   "metadata": {},
   "source": [
    "Here we use data of K562 human chronic myelogenous leukemia cell line as an example. ([Longqi Liu, et al., 2019](https://www.nature.com/articles/s41467-018-08205-7#data-availability))"
   ]
  },
  {
   "cell_type": "code",
   "execution_count": 3,
   "id": "088afec0",
   "metadata": {
    "ExecuteTime": {
     "end_time": "2023-01-15T14:59:56.096690Z",
     "start_time": "2023-01-15T14:59:55.807850Z"
    }
   },
   "outputs": [],
   "source": [
    "RNA_data = sc.read_h5ad('CL_RNA.h5ad')\n",
    "ATAC_data = sc.read_h5ad('CL_ATAC.h5ad')"
   ]
  },
  {
   "cell_type": "code",
   "execution_count": 4,
   "id": "62f2598b",
   "metadata": {
    "ExecuteTime": {
     "end_time": "2023-01-15T14:59:56.107534Z",
     "start_time": "2023-01-15T14:59:56.099921Z"
    }
   },
   "outputs": [
    {
     "data": {
      "text/plain": [
       "AnnData object with n_obs × n_vars = 549 × 49059\n",
       "    obs: 'batch', 'cell_type'"
      ]
     },
     "execution_count": 4,
     "metadata": {},
     "output_type": "execute_result"
    }
   ],
   "source": [
    "RNA_data"
   ]
  },
  {
   "cell_type": "code",
   "execution_count": 5,
   "id": "ba69fc12",
   "metadata": {
    "ExecuteTime": {
     "end_time": "2023-01-15T14:59:56.128581Z",
     "start_time": "2023-01-15T14:59:56.109260Z"
    }
   },
   "outputs": [
    {
     "data": {
      "text/plain": [
       "AnnData object with n_obs × n_vars = 549 × 157358\n",
       "    obs: 'batch', 'cell_type'\n",
       "    var: 'chrom'"
      ]
     },
     "execution_count": 5,
     "metadata": {},
     "output_type": "execute_result"
    }
   ],
   "source": [
    "ATAC_data"
   ]
  },
  {
   "cell_type": "markdown",
   "id": "e5871fcb",
   "metadata": {},
   "source": [
    "We provide data split settings in ``scButterfly.split_dataset`` for reproducibility. You could use parameters ``train_id``, ``validation_id`` and ``test_id`` customize your own datasets splitting settings."
   ]
  },
  {
   "cell_type": "code",
   "execution_count": 6,
   "id": "afc51692",
   "metadata": {
    "ExecuteTime": {
     "end_time": "2023-01-15T14:59:56.141443Z",
     "start_time": "2023-01-15T14:59:56.130241Z"
    }
   },
   "outputs": [],
   "source": [
    "from Butterfly.split_datasets import *\n",
    "id_list = five_fold_split_dataset(RNA_data, ATAC_data)\n",
    "train_id, validation_id, test_id = id_list[4]"
   ]
  },
  {
   "cell_type": "markdown",
   "id": "9a7daf00",
   "metadata": {},
   "source": [
    "Then we load data into scButterfly."
   ]
  },
  {
   "cell_type": "code",
   "execution_count": 7,
   "id": "b92256de",
   "metadata": {
    "ExecuteTime": {
     "end_time": "2023-01-15T14:59:56.209921Z",
     "start_time": "2023-01-15T14:59:56.143150Z"
    },
    "scrolled": true
   },
   "outputs": [
    {
     "name": "stderr",
     "output_type": "stream",
     "text": [
      "[INFO] Butterfly: successfully load in data with\n",
      "\n",
      "RNA data:\n",
      "AnnData object with n_obs × n_vars = 549 × 49059\n",
      "    obs: 'batch', 'cell_type'\n",
      "\n",
      "ATAC data:\n",
      "AnnData object with n_obs × n_vars = 549 × 157358\n",
      "    obs: 'batch', 'cell_type'\n",
      "    var: 'chrom'\n"
     ]
    }
   ],
   "source": [
    "butterfly.load_data(RNA_data, ATAC_data, train_id, test_id, validation_id)"
   ]
  },
  {
   "cell_type": "markdown",
   "id": "f47793d2",
   "metadata": {},
   "source": [
    "scButterfly could pre-process data Automatically, custom settings is also provided, for more information see in [API](../../API/index.html)."
   ]
  },
  {
   "cell_type": "code",
   "execution_count": 8,
   "id": "5dabe34b",
   "metadata": {
    "ExecuteTime": {
     "end_time": "2023-01-15T15:00:00.735200Z",
     "start_time": "2023-01-15T14:59:56.211938Z"
    }
   },
   "outputs": [
    {
     "name": "stderr",
     "output_type": "stream",
     "text": [
      "[INFO] RNA preprocessing: normalize size factor.\n",
      "[INFO] RNA preprocessing: log transform RNA data.\n",
      "[INFO] RNA preprocessing: choose top 3000 genes for following training.\n",
      "[INFO] ATAC preprocessing: binarizing data.\n",
      "[INFO] ATAC preprocessing: filter out peaks appear lower than 0.5% cells.\n",
      "[INFO] ATAC preprocessing: TF-IDF transformation.\n",
      "[INFO] ATAC preprocessing: normalizing data.\n"
     ]
    }
   ],
   "source": [
    "butterfly.data_preprocessing()"
   ]
  },
  {
   "cell_type": "markdown",
   "id": "66b8f49d",
   "metadata": {},
   "source": [
    "## Construct a scButterfly model"
   ]
  },
  {
   "cell_type": "markdown",
   "id": "b8cedde8",
   "metadata": {},
   "source": [
    "scButterfly model needs the information of peaks chromosomes, we should sort the ATAC data with chromosomes and tell scButterfly the count of peaks in each chromosome. "
   ]
  },
  {
   "cell_type": "markdown",
   "id": "2fca7f2b",
   "metadata": {},
   "source": [
    "<div class=\"alert note\">\n",
    "<p>\n",
    "\n",
    "**Note**\n",
    "\n",
    "To be specificly: assume that there are 3 chromosomes in ATAC profile with 6 peaks\n",
    "\n",
    "| peak       | p1  | p2  | p3  | p4  | p5  | p6  |\n",
    "| ---------- | --- | --- | --- | --- | --- | --- |\n",
    "| chromosome | c2  | c1  | c3  | c1  | c1  | c2  |\n",
    "\n",
    "We should first sort ATAC data into \n",
    "\n",
    "| peak       | p2  | p4  | p5  | p1  | p6  | p3  |\n",
    "| ---------- | --- | --- | --- | --- | --- | --- |\n",
    "| chromosome | c1  | c1  | c1  | c2  | c2  | c3  |\n",
    "\n",
    "Then set the ``chrom_list = [3, 2, 1]``, which means 3 peaks in c1, 2 in c2 and 1 in c3.\n",
    "\n",
    "</p>\n",
    "</div>"
   ]
  },
  {
   "cell_type": "code",
   "execution_count": 9,
   "id": "921389a6",
   "metadata": {
    "ExecuteTime": {
     "end_time": "2023-01-15T15:00:00.744330Z",
     "start_time": "2023-01-15T15:00:00.737473Z"
    }
   },
   "outputs": [
    {
     "data": {
      "text/plain": [
       "chr1_10292_10791            chr1\n",
       "chr1_713838_714337          chr1\n",
       "chr1_762665_763164          chr1\n",
       "chr1_778116_778615          chr1\n",
       "chr1_805064_805563          chr1\n",
       "                            ... \n",
       "chr9_140916730_140917229    chr9\n",
       "chr9_140947829_140948328    chr9\n",
       "chr9_140948839_140949338    chr9\n",
       "chr9_140960343_140960842    chr9\n",
       "chr9_140995395_140995894    chr9\n",
       "Name: chrom, Length: 157358, dtype: category\n",
       "Categories (22, object): ['chr1', 'chr2', 'chr3', 'chr4', ..., 'chr19', 'chr20', 'chr21', 'chr22']"
      ]
     },
     "execution_count": 9,
     "metadata": {},
     "output_type": "execute_result"
    }
   ],
   "source": [
    "butterfly.ATAC_data_p.var.chrom"
   ]
  },
  {
   "cell_type": "markdown",
   "id": "8604cb96",
   "metadata": {},
   "source": [
    "<div class=\"alert warning\">\n",
    "<p>\n",
    "\n",
    "**Warning**\n",
    "\n",
    "Here we choose a data with chromosomes sorted, you should ensure that data is sorted by chromosomes before construct model.\n",
    "\n",
    "</p>\n",
    "</div>"
   ]
  },
  {
   "cell_type": "code",
   "execution_count": 10,
   "id": "f6ade79c",
   "metadata": {
    "ExecuteTime": {
     "end_time": "2023-01-15T15:00:02.115571Z",
     "start_time": "2023-01-15T15:00:00.746967Z"
    },
    "scrolled": true
   },
   "outputs": [
    {
     "name": "stdout",
     "output_type": "stream",
     "text": [
      "[16272, 7430, 8797, 7922, 2823, 4194, 4451, 7697, 8746, 2602, 6184, 11059, 4589, 1869, 5247, 9248, 6085, 9806, 8592, 8434, 8448, 6863]"
     ]
    }
   ],
   "source": [
    "chrom_list = []\n",
    "last_one = ''\n",
    "for i in range(len(butterfly.ATAC_data_p.var.chrom)):\n",
    "    temp = butterfly.ATAC_data_p.var.chrom[i]\n",
    "    if temp[0 : 3] == 'chr':\n",
    "        if not temp == last_one:\n",
    "            chrom_list.append(1)\n",
    "            last_one = temp\n",
    "        else:\n",
    "            chrom_list[-1] += 1\n",
    "    else:\n",
    "        chrom_list[-1] += 1\n",
    "        \n",
    "print(chrom_list, end=\"\")"
   ]
  },
  {
   "cell_type": "code",
   "execution_count": 11,
   "id": "459b9cc9",
   "metadata": {
    "ExecuteTime": {
     "end_time": "2023-01-15T15:00:02.122229Z",
     "start_time": "2023-01-15T15:00:02.117527Z"
    }
   },
   "outputs": [
    {
     "data": {
      "text/plain": [
       "157358"
      ]
     },
     "execution_count": 11,
     "metadata": {},
     "output_type": "execute_result"
    }
   ],
   "source": [
    "sum(chrom_list)"
   ]
  },
  {
   "cell_type": "markdown",
   "id": "aff7b02e",
   "metadata": {},
   "source": [
    "We use no data augmentation strategy here, for more information, see in [scButterfly-T](RNA_ATAC_paired_scButterfly-T.ipynb) and [scButterfly-C](RNA_ATAC_paired_scButterfly-C.ipynb)."
   ]
  },
  {
   "cell_type": "code",
   "execution_count": 12,
   "id": "a5f094ea",
   "metadata": {
    "ExecuteTime": {
     "end_time": "2023-01-15T15:00:02.140845Z",
     "start_time": "2023-01-15T15:00:02.123769Z"
    }
   },
   "outputs": [],
   "source": [
    "butterfly.augmentation(aug_type=None)"
   ]
  },
  {
   "cell_type": "markdown",
   "id": "27c2c309",
   "metadata": {},
   "source": [
    "We construct and train scButterfly model with default settings."
   ]
  },
  {
   "cell_type": "code",
   "execution_count": 13,
   "id": "87de0c57",
   "metadata": {
    "ExecuteTime": {
     "end_time": "2023-01-15T15:00:03.849746Z",
     "start_time": "2023-01-15T15:00:02.142450Z"
    }
   },
   "outputs": [
    {
     "name": "stderr",
     "output_type": "stream",
     "text": [
      "[INFO] Butterfly: successfully construct butterfly model.\n"
     ]
    }
   ],
   "source": [
    "butterfly.construct_model(chrom_list=chrom_list)"
   ]
  },
  {
   "cell_type": "code",
   "execution_count": 14,
   "id": "bc4c6cb7",
   "metadata": {
    "ExecuteTime": {
     "end_time": "2023-01-15T15:11:40.760822Z",
     "start_time": "2023-01-15T15:00:03.851347Z"
    }
   },
   "outputs": [
    {
     "name": "stderr",
     "output_type": "stream",
     "text": [
      "[INFO] Butterfly: training butterfly model ...\n",
      "[INFO] Trainer: RNA pretraining ...\n",
      "RNA pretrain: 100%|█████████████████████| 100/100 [02:27<00:00,  1.47s/it, train=0.5873, val=0.6376]\n",
      "[INFO] Trainer: ATAC pretraining ...\n",
      "ATAC pretrain: 100%|████████████████████| 100/100 [02:46<00:00,  1.66s/it, train=0.4602, val=0.4812]\n",
      "[INFO] Trainer: Combine training ...\n",
      "Combine training: 100%|█████████████████| 200/200 [06:22<00:00,  1.91s/it, train=1.5682, val=1.4238]\n"
     ]
    }
   ],
   "source": [
    "butterfly.train_model()"
   ]
  },
  {
   "cell_type": "markdown",
   "id": "8e670918",
   "metadata": {},
   "source": [
    "## Get prediction and evaluate the performance"
   ]
  },
  {
   "cell_type": "markdown",
   "id": "ba799d0e",
   "metadata": {},
   "source": [
    "You could get cross-modal predictions using ``butterfly.test_model`` with default settings. We also provided more information metrics in this function, see in [API](../../API/index.html)."
   ]
  },
  {
   "cell_type": "code",
   "execution_count": 15,
   "id": "e2870879",
   "metadata": {
    "ExecuteTime": {
     "end_time": "2023-01-15T15:11:57.445695Z",
     "start_time": "2023-01-15T15:11:40.763526Z"
    }
   },
   "outputs": [
    {
     "name": "stderr",
     "output_type": "stream",
     "text": [
      "[INFO] Butterfly: testing butterfly model ...\n",
      "[INFO] Tester: get predicting ...\n",
      "RNA to ATAC predicting...: 100%|██████████████████████████████████████| 2/2 [00:00<00:00,  4.82it/s]\n",
      "ATAC to RNA predicting...: 100%|██████████████████████████████████████| 2/2 [00:00<00:00,  2.85it/s]\n",
      "[INFO] Tester: calculate neighbors graph for following test ...\n"
     ]
    }
   ],
   "source": [
    "A2R_predict, R2A_predict = butterfly.test_model()"
   ]
  },
  {
   "cell_type": "code",
   "execution_count": 16,
   "id": "4e951b35",
   "metadata": {
    "ExecuteTime": {
     "end_time": "2023-01-15T15:11:57.450750Z",
     "start_time": "2023-01-15T15:11:57.447865Z"
    }
   },
   "outputs": [],
   "source": [
    "from scButterfly.calculate_cluster import calculate_cluster_index"
   ]
  },
  {
   "cell_type": "markdown",
   "id": "284c7159",
   "metadata": {},
   "source": [
    "Here we draw the [t-SNE](https://jmlr.org/papers/v9/vandermaaten08a.html) embeddings and measure the ARI, AMI, NMI, and HOM."
   ]
  },
  {
   "cell_type": "code",
   "execution_count": 17,
   "id": "6ff57593",
   "metadata": {
    "ExecuteTime": {
     "end_time": "2023-01-15T15:12:56.154698Z",
     "start_time": "2023-01-15T15:11:57.452190Z"
    }
   },
   "outputs": [
    {
     "data": {
      "image/png": "[encoded data removed]",
      "text/plain": [
       "<Figure size 1455.6x480 with 2 Axes>"
      ]
     },
     "metadata": {},
     "output_type": "display_data"
    }
   ],
   "source": [
    "sc.tl.tsne(A2R_predict)\n",
    "sc.tl.leiden(A2R_predict)\n",
    "sc.pl.tsne(A2R_predict, color=['cell_type', 'leiden'], legend_loc='on data', legend_fontsize='small')"
   ]
  },
  {
   "cell_type": "code",
   "execution_count": 18,
   "id": "c6a173e4",
   "metadata": {
    "ExecuteTime": {
     "end_time": "2023-01-15T15:12:56.171901Z",
     "start_time": "2023-01-15T15:12:56.157073Z"
    }
   },
   "outputs": [
    {
     "name": "stdout",
     "output_type": "stream",
     "text": [
      "ATAC to RNA:\n",
      "ARI: 0.620, \tAMI: 0.820, \tNMI: 0.835, \tHOM: 1.000, \tCOM: 0.717\n"
     ]
    }
   ],
   "source": [
    "ARI, AMI, NMI, HOM = calculate_cluster_index(A2R_predict)\n",
    "print('ATAC to RNA:\\nARI: %.3f, \\tAMI: %.3f, \\tNMI: %.3f, \\tHOM: %.3f' % (ARI, AMI, NMI, HOM))"
   ]
  },
  {
   "cell_type": "code",
   "execution_count": 19,
   "id": "63571a8c",
   "metadata": {
    "ExecuteTime": {
     "end_time": "2023-01-15T15:13:54.905139Z",
     "start_time": "2023-01-15T15:12:56.173986Z"
    }
   },
   "outputs": [
    {
     "data": {
      "image/png": "[encoded data removed]",
      "text/plain": [
       "<Figure size 1455.6x480 with 2 Axes>"
      ]
     },
     "metadata": {},
     "output_type": "display_data"
    }
   ],
   "source": [
    "sc.tl.tsne(R2A_predict)\n",
    "sc.tl.leiden(R2A_predict)\n",
    "sc.pl.tsne(R2A_predict, color=['cell_type', 'leiden'], legend_loc='on data', legend_fontsize='small')"
   ]
  },
  {
   "cell_type": "code",
   "execution_count": 20,
   "id": "40fd68ba",
   "metadata": {
    "ExecuteTime": {
     "end_time": "2023-01-15T15:13:54.921012Z",
     "start_time": "2023-01-15T15:13:54.907249Z"
    }
   },
   "outputs": [
    {
     "name": "stdout",
     "output_type": "stream",
     "text": [
      "RNA to ATAC:\n",
      "ARI: 0.874, \tAMI: 0.912, \tNMI: 0.918, \tHOM: 0.982, \tCOM: 0.862\n"
     ]
    }
   ],
   "source": [
    "ARI, AMI, NMI, HOM = calculate_cluster_index(R2A_predict)\n",
    "print('RNA to ATAC:\\nARI: %.3f, \\tAMI: %.3f, \\tNMI: %.3f, \\tHOM: %.3f' % (ARI, AMI, NMI, HOM))"
   ]
  }
 ],
 "metadata": {
  "celltoolbar": "无",
  "kernelspec": {
   "display_name": "Python 3 (ipykernel)",
   "language": "python",
   "name": "python3"
  },
  "language_info": {
   "codemirror_mode": {
    "name": "ipython",
    "version": 3
   },
   "file_extension": ".py",
   "mimetype": "text/x-python",
   "name": "python",
   "nbconvert_exporter": "python",
   "pygments_lexer": "ipython3",
   "version": "3.9.12"
  },
  "toc": {
   "base_numbering": 1,
   "nav_menu": {},
   "number_sections": true,
   "sideBar": true,
   "skip_h1_title": false,
   "title_cell": "Table of Contents",
   "title_sidebar": "Contents",
   "toc_cell": false,
   "toc_position": {},
   "toc_section_display": true,
   "toc_window_display": false
  },
  "vscode": {
   "interpreter": {
    "hash": "be831f8fd4af9710c2084c85ebfbc599b5df1562b13e9c650b8f8438275fb97d"
   }
  }
 },
 "nbformat": 4,
 "nbformat_minor": 5
}
